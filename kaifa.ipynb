{
 "cells": [
  {
   "cell_type": "code",
   "execution_count": 1,
   "metadata": {},
   "outputs": [],
   "source": [
    "import torch\n",
    "from PIL import Image\n",
    "import torchvision\n",
    "import numpy as np\n",
    "from detection_transforms import RandomHorizontalFlip, RandomVerticalFlip, RandomRotate, RandomResize, Compose, ToTensor"
   ]
  },
  {
   "cell_type": "code",
   "execution_count": 2,
   "metadata": {},
   "outputs": [],
   "source": [
    "from torchvision.models.detection.faster_rcnn import FastRCNNPredictor\n",
    "net = torchvision.models.detection.fasterrcnn_resnet50_fpn(pretrained=True)\n",
    "in_features = net.roi_heads.box_predictor.cls_score.in_features\n",
    "net.roi_heads.box_predictor = FastRCNNPredictor(in_features, 7)"
   ]
  },
  {
   "cell_type": "code",
   "execution_count": 3,
   "metadata": {},
   "outputs": [],
   "source": [
    "from data import BedsoreDataset\n",
    "tfmc_train = Compose([\n",
    "    ToTensor()\n",
    "])\n",
    "\n",
    "ds = BedsoreDataset('data', transforms=tfmc_train)\n",
    "image,target = ds[3]"
   ]
  },
  {
   "cell_type": "code",
   "execution_count": 11,
   "metadata": {},
   "outputs": [
    {
     "data": {
      "text/plain": [
       "(tensor([[[0.6431, 0.7098, 0.6667,  ..., 0.3804, 0.3961, 0.4157],\n",
       "          [0.6471, 0.7451, 0.7373,  ..., 0.3765, 0.3804, 0.3922],\n",
       "          [0.6706, 0.7961, 0.8078,  ..., 0.3882, 0.3882, 0.4039],\n",
       "          ...,\n",
       "          [0.3922, 0.4235, 0.4431,  ..., 0.1098, 0.1137, 0.1176],\n",
       "          [0.3922, 0.4275, 0.4510,  ..., 0.1059, 0.1098, 0.1176],\n",
       "          [0.3961, 0.4314, 0.4549,  ..., 0.1059, 0.1098, 0.1216]],\n",
       " \n",
       "         [[0.6157, 0.6824, 0.6392,  ..., 0.3059, 0.3098, 0.3294],\n",
       "          [0.6235, 0.7216, 0.7098,  ..., 0.3020, 0.2941, 0.3059],\n",
       "          [0.6471, 0.7725, 0.7843,  ..., 0.3098, 0.3098, 0.3176],\n",
       "          ...,\n",
       "          [0.2627, 0.2941, 0.3137,  ..., 0.0902, 0.0941, 0.0980],\n",
       "          [0.2627, 0.2980, 0.3216,  ..., 0.0863, 0.0902, 0.0980],\n",
       "          [0.2667, 0.3020, 0.3255,  ..., 0.0863, 0.0902, 0.1020]],\n",
       " \n",
       "         [[0.5451, 0.6118, 0.5686,  ..., 0.2510, 0.2549, 0.2745],\n",
       "          [0.5608, 0.6588, 0.6471,  ..., 0.2471, 0.2431, 0.2549],\n",
       "          [0.5922, 0.7176, 0.7294,  ..., 0.2667, 0.2667, 0.2667],\n",
       "          ...,\n",
       "          [0.1961, 0.2275, 0.2471,  ..., 0.0667, 0.0706, 0.0745],\n",
       "          [0.1961, 0.2314, 0.2549,  ..., 0.0627, 0.0667, 0.0745],\n",
       "          [0.2000, 0.2353, 0.2588,  ..., 0.0627, 0.0667, 0.0784]]]),\n",
       " {'boxes': tensor([[ 796.7549, 1079.1777,  949.3408, 1220.6665]]),\n",
       "  'labels': tensor([2]),\n",
       "  'image_id': tensor([3]),\n",
       "  'masks': tensor([[[0., 0., 0.,  ..., 0., 0., 0.],\n",
       "           [0., 0., 0.,  ..., 0., 0., 0.],\n",
       "           [0., 0., 0.,  ..., 0., 0., 0.],\n",
       "           ...,\n",
       "           [0., 0., 0.,  ..., 0., 0., 0.],\n",
       "           [0., 0., 0.,  ..., 0., 0., 0.],\n",
       "           [0., 0., 0.,  ..., 0., 0., 0.]],\n",
       "  \n",
       "          [[0., 0., 0.,  ..., 0., 0., 0.],\n",
       "           [0., 0., 0.,  ..., 0., 0., 0.],\n",
       "           [0., 0., 0.,  ..., 0., 0., 0.],\n",
       "           ...,\n",
       "           [0., 0., 0.,  ..., 0., 0., 0.],\n",
       "           [0., 0., 0.,  ..., 0., 0., 0.],\n",
       "           [0., 0., 0.,  ..., 0., 0., 0.]],\n",
       "  \n",
       "          [[0., 0., 0.,  ..., 0., 0., 0.],\n",
       "           [0., 0., 0.,  ..., 0., 0., 0.],\n",
       "           [0., 0., 0.,  ..., 0., 0., 0.],\n",
       "           ...,\n",
       "           [0., 0., 0.,  ..., 0., 0., 0.],\n",
       "           [0., 0., 0.,  ..., 0., 0., 0.],\n",
       "           [0., 0., 0.,  ..., 0., 0., 0.]]])})"
      ]
     },
     "execution_count": 11,
     "metadata": {},
     "output_type": "execute_result"
    }
   ],
   "source": [
    "ds[3]"
   ]
  },
  {
   "cell_type": "code",
   "execution_count": 5,
   "metadata": {},
   "outputs": [],
   "source": [
    "from torchvision.models.detection.mask_rcnn import maskrcnn_resnet50_fpn"
   ]
  },
  {
   "cell_type": "code",
   "execution_count": 6,
   "metadata": {},
   "outputs": [],
   "source": [
    "net = maskrcnn_resnet50_fpn()"
   ]
  },
  {
   "cell_type": "code",
   "execution_count": 7,
   "metadata": {},
   "outputs": [
    {
     "name": "stderr",
     "output_type": "stream",
     "text": [
      "/home/zrway/anaconda3/lib/python3.7/site-packages/torch/nn/functional.py:3000: UserWarning: The default behavior for interpolate/upsample with float scale_factor changed in 1.6.0 to align with other frameworks/libraries, and uses scale_factor directly, instead of relying on the computed output size. If you wish to keep the old behavior, please set recompute_scale_factor=True. See the documentation of nn.Upsample for details. \n",
      "  warnings.warn(\"The default behavior for interpolate/upsample with float scale_factor changed \"\n",
      "/home/zrway/anaconda3/lib/python3.7/site-packages/torchvision/models/detection/_utils.py:321: UserWarning: This overload of nonzero is deprecated:\n",
      "\tnonzero(Tensor input, *, Tensor out)\n",
      "Consider using one of the following signatures instead:\n",
      "\tnonzero(Tensor input, *, bool as_tuple) (Triggered internally at  /pytorch/torch/csrc/utils/python_arg_parser.cpp:766.)\n",
      "  match_quality_matrix == highest_quality_foreach_gt[:, None]\n"
     ]
    },
    {
     "data": {
      "text/plain": [
       "{'loss_classifier': tensor(4.4903, grad_fn=<NllLossBackward>),\n",
       " 'loss_box_reg': tensor(0.0217, grad_fn=<DivBackward0>),\n",
       " 'loss_mask': tensor(0.8139, grad_fn=<BinaryCrossEntropyWithLogitsBackward>),\n",
       " 'loss_objectness': tensor(0.6905, grad_fn=<BinaryCrossEntropyWithLogitsBackward>),\n",
       " 'loss_rpn_box_reg': tensor(0.0025, grad_fn=<DivBackward0>)}"
      ]
     },
     "execution_count": 7,
     "metadata": {},
     "output_type": "execute_result"
    }
   ],
   "source": [
    "net([image],[target])"
   ]
  },
  {
   "cell_type": "code",
   "execution_count": null,
   "metadata": {},
   "outputs": [],
   "source": []
  }
 ],
 "metadata": {
  "kernelspec": {
   "display_name": "Python 3.7.4 64-bit ('base': conda)",
   "language": "python",
   "name": "python37464bitbasecondaf63bac1a07634c71aa70aecffb3be0e1"
  },
  "language_info": {
   "codemirror_mode": {
    "name": "ipython",
    "version": 3
   },
   "file_extension": ".py",
   "mimetype": "text/x-python",
   "name": "python",
   "nbconvert_exporter": "python",
   "pygments_lexer": "ipython3",
   "version": "3.7.4"
  }
 },
 "nbformat": 4,
 "nbformat_minor": 4
}
