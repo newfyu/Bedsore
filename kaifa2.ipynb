{
 "cells": [
  {
   "cell_type": "code",
   "execution_count": 1,
   "metadata": {},
   "outputs": [],
   "source": [
    "import voc_eval"
   ]
  },
  {
   "cell_type": "code",
   "execution_count": 2,
   "metadata": {},
   "outputs": [
    {
     "data": {
      "text/plain": [
       "[{'name': '不可分期', 'bbox': [439, 61, 1018, 897]}]"
      ]
     },
     "execution_count": 2,
     "metadata": {},
     "output_type": "execute_result"
    }
   ],
   "source": [
    "voc_eval.parse_rec('data/VOCdevkit/VOC2007/Annotations/B01_00008.xml')"
   ]
  },
  {
   "cell_type": "code",
   "execution_count": 3,
   "metadata": {},
   "outputs": [
    {
     "name": "stdout",
     "output_type": "stream",
     "text": [
      "3 annotationd have been read\n",
      "tp: [1. 1. 0.] fp: [0. 0. 1.]\n"
     ]
    },
    {
     "data": {
      "text/plain": [
       "(array([0.33333333, 0.66666667, 0.66666667]),\n",
       " array([1.        , 1.        , 0.66666667]),\n",
       " 0.6363636363636365)"
      ]
     },
     "execution_count": 3,
     "metadata": {},
     "output_type": "execute_result"
    }
   ],
   "source": [
    "voc_eval.voc_eval('test_det_file.txt','data/VOCdevkit/VOC2007/Annotations/{}.xml','data/VOCdevkit/VOC2007/ImageSets/Main/test.txt','不可分期',use_07_metric=True)"
   ]
  }
 ],
 "metadata": {
  "kernelspec": {
   "display_name": "Python 3.7.4 64-bit ('base': conda)",
   "language": "python",
   "name": "python37464bitbasecondaf63bac1a07634c71aa70aecffb3be0e1"
  },
  "language_info": {
   "codemirror_mode": {
    "name": "ipython",
    "version": 3
   },
   "file_extension": ".py",
   "mimetype": "text/x-python",
   "name": "python",
   "nbconvert_exporter": "python",
   "pygments_lexer": "ipython3",
   "version": "3.7.4"
  }
 },
 "nbformat": 4,
 "nbformat_minor": 4
}
